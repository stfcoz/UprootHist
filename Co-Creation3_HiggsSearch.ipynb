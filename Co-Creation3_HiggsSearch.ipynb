{
 "cells": [
  {
   "cell_type": "markdown",
   "metadata": {},
   "source": [
    "<CENTER><img src=\"images/logos.png\" style=\"width:50%\"></CENTER>"
   ]
  },
  {
   "cell_type": "markdown",
   "metadata": {},
   "source": [
    "<CENTER><h1>Searching for the Higgs boson </h1></CENTER>\n",
    "\n",
    "\n",
    "Below are some Feyman diagrams of ways the Higgs boson can be produced according to the Standard Model:\n",
    "\n",
    "<br>\n",
    "\n",
    "<CENTER><img src=\"https://cds.cern.ch/record/2243593/files/Figures_FeynmanHprod.png\" style=\"width:50%\"></CENTER>"
   ]
  },
  {
   "cell_type": "markdown",
   "metadata": {},
   "source": [
    "Just as the Higgs can be produced in several ways, the Higgs can also decay in a number of ways or 'channels'. In this excercise, we will be searching for the Higgs in two different decay channels."
   ]
  },
  {
   "cell_type": "markdown",
   "metadata": {},
   "source": [
    "---"
   ]
  },
  {
   "cell_type": "markdown",
   "metadata": {},
   "source": [
    "To understand the background to finding the Higgs boson, watch [this](https://youtu.be/1nHYs-qUymo) RAL video by Dr Kristian Harder about the Higgs and the LHC."
   ]
  },
  {
   "cell_type": "markdown",
   "metadata": {},
   "source": [
    "---"
   ]
  },
  {
   "cell_type": "markdown",
   "metadata": {},
   "source": [
    "### Before we begin:\n",
    "\n",
    "- Some of the datafiles used in this notebook have millions of events - Don't be surpised if running certain event loops takes up to 10 mins (or longer)!\n",
    "\n",
    "- This notebook is designed to give you an idea of how a real physics analysis is set up. Study it carefully to help with your own research!\n",
    "\n",
    "- The two analyses presented in this notebooks are inspired by the [prompts](http://opendata.atlas.cern/release/2020/documentation/physics/intro.html) on the ATLAS Open Data website. \n",
    "    - This is a great place to start for ideas for your own research!"
   ]
  },
  {
   "cell_type": "markdown",
   "metadata": {},
   "source": [
    "---"
   ]
  },
  {
   "cell_type": "markdown",
   "metadata": {},
   "source": [
    "<CENTER><h2>Search 1: The H&#8594;&gamma;&gamma; channel</h2></CENTER>"
   ]
  },
  {
   "cell_type": "markdown",
   "metadata": {},
   "source": [
    "<CENTER><img src=\"./images/higgsFD.png\" style=\"width:30%\"></CENTER>\n",
    "\n",
    "<br>\n",
    "  \n",
    "One of the ways the Higgs can decay is to two photons. We call this channel __H&#8594;&gamma;&gamma;__ (\"Higgs to gamma gamma\").\n",
    "\n",
    "\n",
    "Of course, there are other ways two photons can be made in the LHC, but if we look at the entire range of invariant masses of these two photons, we should expect there to be more of them around 125 GeV, the mass of the Higgs (\"bump hunting\")."
   ]
  },
  {
   "cell_type": "markdown",
   "metadata": {},
   "source": [
    "### This analysis is inspired by the prompt on the Open Data website [here](http://opendata.atlas.cern/release/2020/documentation/physics/YY.html)."
   ]
  },
  {
   "cell_type": "markdown",
   "metadata": {},
   "source": [
    "#### Importing the usual libraries"
   ]
  },
  {
   "cell_type": "code",
   "execution_count": 19,
   "metadata": {},
   "outputs": [],
   "source": [
    "import uproot\n",
    "import hist\n",
    "from hist import Hist\n",
    "from TLorentzVector import TLorentzVector"
   ]
  },
  {
   "cell_type": "markdown",
   "metadata": {},
   "source": [
    "### 1. Reading in ROOT files\n",
    "<br>\n",
    "In the usual way:\n",
    "\n",
    "1. Open our datafile containing two photon (\"diphoton\" or $\\gamma\\gamma$) events \n",
    "\n",
    "2. Retrieive the TTree storing the data and \n",
    "\n",
    "3. Get the tree entries \n",
    "\n",
    "<br>\n",
    "\n",
    "As always, if you need hints, refer back to the first tutorial As always, if you need hints, refer back to the Co-Creation1_HistogramTutorial."
   ]
  },
  {
   "cell_type": "markdown",
   "metadata": {},
   "source": [
    "#### a) Open Root File\n",
    "\n",
    "Using `uproot`, `uproot.open()` a sample of diphoton data, stored at \n",
    "\n",
    "`https://atlas-opendata.web.cern.ch/atlas-opendata/samples/2020/GamGam/Data/data_A.GamGam.root`\n",
    "\n",
    " "
   ]
  },
  {
   "cell_type": "code",
   "execution_count": 2,
   "metadata": {},
   "outputs": [],
   "source": [
    "f = uproot.open(\"https://atlas-opendata.web.cern.ch/atlas-opendata/samples/2020/GamGam/Data/data_A.GamGam.root\")"
   ]
  },
  {
   "cell_type": "markdown",
   "metadata": {},
   "source": [
    "#### b) Retrieve TTree\n",
    "\n",
    "Get the TTree named `mini` from the ROOT file `f`"
   ]
  },
  {
   "cell_type": "code",
   "execution_count": 3,
   "metadata": {},
   "outputs": [],
   "source": [
    "tree = f[\"mini\"]"
   ]
  },
  {
   "cell_type": "markdown",
   "metadata": {},
   "source": [
    "#### c) Load TTree data\n",
    "\n",
    "`show()` our TTree to print the number of events in the tree as a check that the data has loaded properly."
   ]
  },
  {
   "cell_type": "code",
   "execution_count": null,
   "metadata": {},
   "outputs": [],
   "source": [
    "tree.show()"
   ]
  },
  {
   "cell_type": "markdown",
   "metadata": {},
   "source": [
    "### 2. Preparing histograms\n",
    "<br>\n",
    "\n",
    "As in previous examples, before we are ready to fill our histograms we need to define the settings of the histograms we intend to draw"
   ]
  },
  {
   "cell_type": "markdown",
   "metadata": {},
   "source": [
    "#### Set up histogram \n",
    "\n",
    "Set up a  histogram to be filled with our __diphoton invariant masses__. Label it `Invariant Mass m_{yy} [GeV]` and divide it into $30$ bins between $105$ and $160 \\; GeV$."
   ]
  },
  {
   "cell_type": "markdown",
   "metadata": {},
   "source": [
    "<details>\n",
    "    <summary>Click for a hint: </summary>\n",
    "    Remember how we separate bins, limits and labels in the .axis.Regular() function?\n",
    "</details>"
   ]
  },
  {
   "cell_type": "code",
   "execution_count": 4,
   "metadata": {},
   "outputs": [],
   "source": [
    "my_hist = Hist(hist.axis.Regular(30, 105, 160, label = \"Invariant Mass m_{yy} [GeV]\"))"
   ]
  },
  {
   "cell_type": "markdown",
   "metadata": {},
   "source": [
    "### 3. Selecting events and filling histograms"
   ]
  },
  {
   "cell_type": "markdown",
   "metadata": {},
   "source": [
    "Our strategy, for filling our diphoton invariant mass histogram is as follows:\n",
    "\n",
    "1. Loop through each `event` in our `tree`. We can print out how many events have been processed every 100000 events to keep track of progress.\n",
    "\n",
    "2. In each event, search for _'good quality photons'_ (more on this later).\n",
    "\n",
    "3. If there are exactly two qood quality photons, check that they are _'well isolated'_ (again, more later).\n",
    "\n",
    "4. If the two photons are well-isolated, extract their 4 momentum from the the pT, eta, phi and energy TTree branches, and store in a TLorentz vector. Make sure to convert their transverse momentum (pT) and energy (E) from MeV, as is stored in the TTree, to GeV as will be displayed in the histogram.\n",
    "\n",
    "5. Add the TLorentz vectors of the two photons together\n",
    "\n",
    "6. Calculate the invariant mass of our two-photon system\n",
    "\n",
    "6. Check each photon makes up a minimum fraction of the diphoton system invariant mass\n",
    "\n",
    "8. Fill the histogram with the invariant mass of our two-photon system"
   ]
  },
  {
   "cell_type": "markdown",
   "metadata": {},
   "source": [
    "__NOTE:__ To simplify our code, we will be writing some custom __functions__ to perform each of the above operations."
   ]
  },
  {
   "cell_type": "markdown",
   "metadata": {},
   "source": [
    "#### 1) Loop tracker"
   ]
  },
  {
   "cell_type": "code",
   "execution_count": 5,
   "metadata": {},
   "outputs": [],
   "source": [
    "def trackProgress(n,m):\n",
    "    \"\"\"\n",
    "    Function which prints the event loop progress every m events \n",
    "    \n",
    "    Parameters\n",
    "    ----------\n",
    "    n : Number of events processed so far\n",
    "    \n",
    "    m : Printout event interval\n",
    "    \n",
    "    \"\"\"\n",
    "    if n == 0:\n",
    "        print(\"Event loop tracker\")\n",
    "        print(\"------------------\")\n",
    "    \n",
    "    if(n%m==0):\n",
    "        print(\"%d events processed\" % n)"
   ]
  },
  {
   "cell_type": "markdown",
   "metadata": {},
   "source": [
    "#### 2) Photon quality"
   ]
  },
  {
   "cell_type": "code",
   "execution_count": 6,
   "metadata": {},
   "outputs": [],
   "source": [
    "def locateGoodPhotons(dat):\n",
    "    \"\"\"\n",
    "    Function which returns the index of photons in the event which pass our quality requirements.\n",
    "    These are:\n",
    "        - Event passes photon trigger\n",
    "        - Photon is identified as such, passing 'Tight' requirements \n",
    "            - This means we are very sure our photon is indeed a photon, but we might lose some photons that are \n",
    "              less obvious in the process. The opposite of this is the 'Loose' requirement, where we are less\n",
    "              sure that our photon is a photon, but we are less likely to miss real ones .\n",
    "        - Photon has pT > 25 GeV (or 25000 MeV)\n",
    "        - Photon is in the 'central' region of ATLAS i.e. it has |eta| < 2.37\n",
    "        - Photon does not fall in the 'transition region' between ATLAS's inner detector barrell\n",
    "          and ECal endcap i.e. 1.37 <= |eta| <= 1.52\n",
    "          \n",
    "    Parameters\n",
    "    ----------\n",
    "    dat : array from TTree for this event\n",
    "    \n",
    "    \"\"\"\n",
    "    \n",
    "    ## Checking the event passes the photon trigger\n",
    "    #trigP = tree[\"trigP\"]\n",
    "    trigP = dat[\"trigP\"]\n",
    "    if trigP == True:\n",
    "        \n",
    "        # Initialise (set up) the variables we want to return\n",
    "        goodphoton_index = [] #Indices (position in list of event's photons) of our good photons\n",
    "            \n",
    "        ## Loop through all the photons in the event\n",
    "        #photon_n = tree[\"photon_n\"]\n",
    "        photon_n = dat[\"photon_n\"]\n",
    "        for j in range(0,photon_n):\n",
    "            \n",
    "            ## Check photon ID\n",
    "            #photon_isTight = tree[\"photon_isTightID\"][j]\n",
    "            photon_isTight = dat[\"photon_isTightID\"][j]\n",
    "            if(photon_isTight):\n",
    "                #photon_pt = tree[\"photon_pt\"][j]\n",
    "                photon_pt = dat[\"photon_pt\"][j]\n",
    "                # Check photon has a large enough pT\n",
    "                if (j==0 and photon_pt > 35000) or (j==1 and photon_pt > 25000):\n",
    "                    #photon_eta = tree[\"photon_eta\"][j]\n",
    "                    photon_eta = dat[\"photon_eta\"][j]\n",
    "                    # Check photon eta is in the 'central' region\n",
    "                    if (abs(photon_eta) < 2.37):\n",
    "                  \n",
    "                      # Exclude \"transition region\" between ID barrell and ECal endcap\n",
    "                      if (abs(photon_eta) < 1.37 or abs(photon_eta) > 1.52):\n",
    "\n",
    "                        goodphoton_index.append(j) # Store photon's index\n",
    "                    \n",
    "        return goodphoton_index # Return list of good photon indices"
   ]
  },
  {
   "cell_type": "markdown",
   "metadata": {},
   "source": [
    "#### 3) Photon isolation"
   ]
  },
  {
   "cell_type": "code",
   "execution_count": 7,
   "metadata": {},
   "outputs": [],
   "source": [
    "def photonIsolation(dat,photon_indices):\n",
    "    \"\"\"\n",
    "    Function which returns True if all photons are well-isolated, otherwise returns false.\n",
    "    \n",
    "    A photon is considered 'isolated' if the transverse momentum and transverse energy in the detector, within \n",
    "    a particular radius around the photon (variables called 'ptcone30' and 'etcone20'), is below a certain threshold compared to the photon's \n",
    "    transverse momentum (don't worry too much about the details!).\n",
    "    \n",
    "    Parameters\n",
    "    ----------\n",
    "    dat : array from TTree for this event\n",
    "    \n",
    "    photon_indices : List containing the indices in the TTree of our photons of interest\n",
    "    \n",
    "    \"\"\"\n",
    "    \n",
    "    # Loop through our list of photon indices\n",
    "    for i in photon_indices:\n",
    "        photon_ptcone30 = dat[\"photon_ptcone30\"][i]\n",
    "        photon_pt = dat[\"photon_pt\"][i]\n",
    "        photon_etcone20 = dat[\"photon_etcone20\"][i]\n",
    "        \n",
    "        # If each photon passes isolation requirements...\n",
    "        if((photon_ptcone30 / photon_pt < 0.065) and \n",
    "           (photon_etcone20 / photon_pt < 0.065)):\n",
    "            continue #...keep the loop going \n",
    "        \n",
    "        # If any fail, break the loop and return False\n",
    "        else: \n",
    "            return False\n",
    "    \n",
    "    # If the loop is able to finish, i.e. all photons are well-isolated, return True\n",
    "    return True"
   ]
  },
  {
   "cell_type": "markdown",
   "metadata": {},
   "source": [
    "#### 4) Extracting four-momentum"
   ]
  },
  {
   "cell_type": "code",
   "execution_count": 8,
   "metadata": {},
   "outputs": [],
   "source": [
    "def photonFourMomentum(dat, photon_indices):\n",
    "    \"\"\"\n",
    "    Function which returns the 4 momenta of a list of photons in an event as a list of TLorentzVectors\n",
    "    \n",
    "    Parameters\n",
    "    ----------\n",
    "    dat : array from TTree for this event\n",
    "    \n",
    "    photon_indices : List containing the indices in the TTree of our photons of interest\n",
    "    \n",
    "    \"\"\"\n",
    "    \n",
    "    photon_four_momenta = []\n",
    "    \n",
    "    # Loop through our list of photon indices\n",
    "    for i in photon_indices:\n",
    "    \n",
    "        # Initialse (set up) an empty 4 vector for each photon\n",
    "        Photon_i = TLorentzVector()\n",
    "    \n",
    "        photon_pt = dat[\"photon_pt\"][i]\n",
    "        photon_eta = dat[\"photon_eta\"][i]\n",
    "        photon_phi = dat[\"photon_phi\"][i]\n",
    "        photon_E = dat[\"photon_E\"][i]\n",
    "        # Retrieve the photon's 4 momentum components from the tree\n",
    "        # Convert from MeV to GeV where needed by dividing by 1000\n",
    "        Photon_i.SetPtEtaPhiE(photon_pt/1000., photon_eta, photon_phi, photon_E/1000.)\n",
    "        \n",
    "        # Store photon's 4 momentum\n",
    "        photon_four_momenta.append(Photon_i)\n",
    "        \n",
    "        \n",
    "    return photon_four_momenta"
   ]
  },
  {
   "cell_type": "markdown",
   "metadata": {},
   "source": [
    "#### 5) Sum the 4 momenta of each photon in the event"
   ]
  },
  {
   "cell_type": "code",
   "execution_count": 9,
   "metadata": {},
   "outputs": [],
   "source": [
    "def sumFourMomentum(four_momenta):\n",
    "    \"\"\"\n",
    "    Function which sums a list of four-momenta, and returns the resultant four-momentum of the system\n",
    "    \n",
    "    Parameters\n",
    "    ----------\n",
    "    four_momenta : List of TLorentzVectors containing the four-momentum of each object in the system\n",
    "    \n",
    "    \"\"\"\n",
    "    \n",
    "    # Initialise (set up) TLorentzVector for our momentum sum\n",
    "    four_mom_sum = TLorentzVector()\n",
    "    \n",
    "    for obj in four_momenta:\n",
    "        four_mom_sum += obj\n",
    "        \n",
    "    return four_mom_sum"
   ]
  },
  {
   "cell_type": "markdown",
   "metadata": {},
   "source": [
    "### Putting it all together!"
   ]
  },
  {
   "cell_type": "code",
   "execution_count": 10,
   "metadata": {},
   "outputs": [
    {
     "name": "stdout",
     "output_type": "stream",
     "text": [
      "Event loop tracker\n",
      "------------------\n",
      "0 events processed\n",
      "100000 events processed\n",
      "200000 events processed\n",
      "300000 events processed\n",
      "400000 events processed\n"
     ]
    }
   ],
   "source": [
    "sel_events = tree.arrays([\"photon_ptcone30\",\"photon_etcone20\", \"photon_isTightID\", \"photon_eta\", \"photon_phi\",\n",
    "                          \"photon_n\", \"photon_E\", \"photon_pt\", \"trigP\"])\n",
    "\n",
    "n = 0\n",
    "#for event in range(2):\n",
    "for event in sel_events:\n",
    "       \n",
    "    #1) Loop progress tracking: Print progress every 100,000 events\n",
    "    trackProgress(n,100000)\n",
    "    n += 1\n",
    "    \n",
    "    #2) Identify exactly two 'good quality photons'\n",
    "    #goodphoton_indices = locateGoodPhotons(tree)\n",
    "\n",
    "    goodphoton_indices = locateGoodPhotons(event)\n",
    "    if len(goodphoton_indices) == 2:\n",
    "        \n",
    "        #3) Check our good quality photons are well-isolated\n",
    "        photons_are_isolated = photonIsolation(event, goodphoton_indices)\n",
    "        \n",
    "        if photons_are_isolated:\n",
    "        \n",
    "            #4) Convert 4-momentum from MeV to GeV\n",
    "            photon_four_momenta = photonFourMomentum(event, goodphoton_indices)\n",
    "            \n",
    "            #5) Add the 4-momenta together\n",
    "            Photon_12 = sumFourMomentum(photon_four_momenta)\n",
    "            \n",
    "            #6) Calculate the diphoton invariant mass\n",
    "            inv_mass = Photon_12.M() #Calculated invariant mass\n",
    "            \n",
    "            photon_pt = event[\"photon_pt\"]\n",
    "            #7) Check each photon makes up a minimum fraction of the diphoton system invariant mass\n",
    "            if ((photon_pt[0]/inv_mass) > 0.35) and ((photon_pt[1]/inv_mass) > 0.25):\n",
    "                \n",
    "                #8) Fill histogram with invariant mass\n",
    "                my_hist.fill(inv_mass)"
   ]
  },
  {
   "cell_type": "markdown",
   "metadata": {},
   "source": [
    "### 4. Draw plots\n",
    "\n",
    "Finally, we would like to draw our diphoton invariant mass histograms and display the canvas showing our results. \n",
    "\n",
    "For this study, we would also like to plot the __error bars__ for each bin to illustrate the (statistical) __uncertainties__ on our measurement. This is done by passing `\"E\"` as an argument to `Draw()` when drawing the _histogram_."
   ]
  },
  {
   "cell_type": "code",
   "execution_count": 11,
   "metadata": {},
   "outputs": [
    {
     "data": {
      "image/png": "[encoded data removed]",
      "text/plain": [
       "<Figure size 432x288 with 1 Axes>"
      ]
     },
     "metadata": {
      "needs_background": "light"
     },
     "output_type": "display_data"
    }
   ],
   "source": [
    "import matplotlib.pyplot as plt\n",
    "\n",
    "my_hist.plot()\n",
    "plt.show()"
   ]
  },
  {
   "cell_type": "markdown",
   "metadata": {},
   "source": [
    "### Some questions to think about...\n",
    "\n",
    "1. Can we say we have 'found' the Higgs based on these histograms alone? Why/why not?"
   ]
  },
  {
   "cell_type": "markdown",
   "metadata": {},
   "source": [
    "<details>\n",
    "    <summary>Click here for hint: </summary>\n",
    "    To have \"found\" the Higgs, we would need to see an obvious bump above the background at 125 GeV, the mass of the Higgs. Do we see this in the histogram we've just made?\n",
    "</details>"
   ]
  },
  {
   "cell_type": "markdown",
   "metadata": {},
   "source": [
    "2. What steps could we take to make our search for the Higgs more robust?"
   ]
  },
  {
   "cell_type": "markdown",
   "metadata": {},
   "source": [
    "<details>\n",
    "    <summary>Click here for hint: </summary>\n",
    "    Take a look in the directory containing our diphoton data. Are there more files available? What would be the effect of adding more files to the analysis?\n",
    "    \n",
    "    https://atlas-opendata.web.cern.ch/atlas-opendata/samples/2020/GamGam/Data/\n",
    "</details>"
   ]
  },
  {
   "cell_type": "markdown",
   "metadata": {},
   "source": [
    "### Over to you!"
   ]
  },
  {
   "cell_type": "markdown",
   "metadata": {},
   "source": [
    "<details>\n",
    "    <summary>When you have thought about your answers to the questions above, click here to reveal your execise: </summary>\n",
    "    Repeat the above analysis, this time using all four diphoton datafiles, each filling the same histogram. Is the bump clearer now?\n",
    "</details>"
   ]
  },
  {
   "cell_type": "markdown",
   "metadata": {},
   "source": [
    "_If you are having trouble, click the boxes below for help with the individual steps_"
   ]
  },
  {
   "cell_type": "markdown",
   "metadata": {},
   "source": [
    "<details>\n",
    "    <summary> Loading in multiple ROOT files </summary>\n",
    "    \n",
    "    fa = uproot.open(\"https://atlas-opendata.web.cern.ch/atlas-opendata/samples/2020/GamGam/Data/data_A.GamGam.root\")\n",
    "    fb = uproot.open(\"https://atlas-opendata.web.cern.ch/atlas-opendata/samples/2020/GamGam/Data/data_B.GamGam.root\")\n",
    "    fc = uproot.open(\"https://atlas-opendata.web.cern.ch/atlas-opendata/samples/2020/GamGam/Data/data_C.GamGam.root\")\n",
    "    fd = uproot.open(\"https://atlas-opendata.web.cern.ch/atlas-opendata/samples/2020/GamGam/Data/data_D.GamGam.root\")\n",
    "\n",
    "    my_files = [fa,fb,fc,fd]\n",
    "</details>"
   ]
  },
  {
   "cell_type": "markdown",
   "metadata": {},
   "source": [
    "<details>\n",
    "    <summary>Setting up a fresh histogram: </summary>\n",
    "    \n",
    "    my_hist = Hist(hist.axis.Regular(30, 105, 160, label = \"Diphoton Invariant Mass m_{yy} [GeV]\"))\n",
    "</details>"
   ]
  },
  {
   "cell_type": "markdown",
   "metadata": {},
   "source": [
    "<details>\n",
    "    <summary>Adjust the event loop to loop over each file as well as each event </summary>\n",
    "\n",
    "This is ONLY ONE way to do it\n",
    "\n",
    "    sel_events = tree_i.arrays([\"photon_ptcone30\",\"photon_etcone20\", \"photon_isTightID\", \"photon_eta\", \"photon_phi\",\n",
    "                          \"photon_n\", \"photon_E\", \"photon_pt\", \"trigP\"])\n",
    "\n",
    "    for i in range(0,2): # originally range(0,4)\n",
    "        file_i = my_files[i]\n",
    "        tree_i = file_i[\"mini\"]\n",
    "\n",
    "        #Now repeat the analysis loop from above, making sure to change the name of the tree and the histogram\n",
    "        n = 0\n",
    "        for event in sel_events:\n",
    "\n",
    "            #1) Loop progress tracking: Print progress every 100,000 events\n",
    "            trackProgress(n,100000)\n",
    "            n += 1\n",
    "\n",
    "            #2) Identify exactly two 'good quality photons'\n",
    "            goodphoton_indices = locateGoodPhotons(event)\n",
    "\n",
    "            if len(goodphoton_indices) == 2:\n",
    "\n",
    "                #3) Check our good quality photons are well-isolated\n",
    "                photons_are_isolated = photonIsolation(event, goodphoton_indices)\n",
    "\n",
    "                if photons_are_isolated:\n",
    "\n",
    "                    #4) Convert 4-momentum from MeV to GeV\n",
    "                    photon_four_momenta = photonFourMomentum(event, goodphoton_indices)\n",
    "\n",
    "                    #5) Add the 4-momenta together\n",
    "                    Photon_12 = sumFourMomentum(photon_four_momenta)\n",
    "\n",
    "                    #6) Calculate the diphoton invariant mass\n",
    "                    inv_mass = Photon_12.M() #Calculated invariant mass\n",
    "                    photon_pt = event[\"photon_pt\"]\n",
    "\n",
    "                    #7) Check each photon makes up a minimum fraction of the diphoton system invariant mass\n",
    "                    if ((photon_pt[0]/inv_mass) > 0.35) and ((photon_pt[1]/inv_mass) > 0.25):\n",
    "\n",
    "                        #8) Fill histogram with invariant mass\n",
    "                        my_hist.fill(inv_mass)\n",
    "    \n",
    "Feel free to add extra printouts (like above) to help with progress tracking\n",
    "</details>"
   ]
  },
  {
   "cell_type": "markdown",
   "metadata": {},
   "source": [
    "<details>\n",
    "    <summary>Draw the new histogram </summary>\n",
    "\n",
    "Let's add a few extra formatting options as we go:\n",
    "    \n",
    "    my_hist.plot(histtype = \"fill\")\n",
    "    plt.title(\"Diphoton invariant mass\")\n",
    "    plt.show()\n",
    "    \n",
    "</details>"
   ]
  },
  {
   "cell_type": "markdown",
   "metadata": {},
   "source": [
    "### One more thing we can do!\n",
    "\n",
    "$H\\rightarrow\\gamma\\gamma$ is a rare event, and its signal can be difficult to see over the background of two photons being produced in other ways (as your plots above show!). One way we can make this easier to see is to make a predicition for what this background looks like.\n",
    "\n",
    "Here we can do a **data-driven** estimate of the background, by fitting the data with a cubic function, the shape we're assuming for the distribution of background diphoton events.\n",
    "\n",
    "To do this, we can use ROOT's `.Fit()` function. In the example below, we are passing it two arguments:\n",
    "\n",
    "- `\"pol3\"`: Indicates we want to fit out histogram with a third-order polynomial i.e. a cubic function \n",
    "- `\"S\"`: Indictes we will want to draw this function on the same canvas as our histogram"
   ]
  },
  {
   "cell_type": "code",
   "execution_count": null,
   "metadata": {},
   "outputs": [],
   "source": [
    "background = my_hist.Fit(\"pol3\",'S')"
   ]
  },
  {
   "cell_type": "markdown",
   "metadata": {},
   "source": [
    "Now draw our fit on the same plot as our histogram (indicated by the argument `\"SAME\"`), and redraw our canvas."
   ]
  },
  {
   "cell_type": "code",
   "execution_count": null,
   "metadata": {},
   "outputs": [],
   "source": [
    "background.Draw(\"SAME\")\n",
    "my_canvas.Draw()"
   ]
  },
  {
   "cell_type": "markdown",
   "metadata": {},
   "source": [
    "Is the bump at 125 GeV easier to see now? Compare your plot to the figure from the full ATLAS below, which uses much more data"
   ]
  },
  {
   "cell_type": "markdown",
   "metadata": {},
   "source": [
    "<CENTER><img src=\"images/Higgs.png\" style=\"width:50%\"></CENTER>"
   ]
  },
  {
   "cell_type": "markdown",
   "metadata": {},
   "source": [
    "Even with much more data, the bump is small! However, sometimes a small bump is all we need - this amount of extra events over the expected background was enough for the Higgs to be declared discovered in 2012, winning Peter Higgs and François Englert, the scientists who first invented its theory, the Nobel Prize."
   ]
  },
  {
   "cell_type": "markdown",
   "metadata": {},
   "source": [
    "---"
   ]
  },
  {
   "cell_type": "markdown",
   "metadata": {},
   "source": [
    "<CENTER><h2>Search 2: The H&#8594;WW channel</h2></CENTER>"
   ]
  },
  {
   "cell_type": "markdown",
   "metadata": {},
   "source": [
    "The following analysis will aim to find a signal for the Higgs boson decaying to 2 W-bosons:\n",
    "\n",
    "<br>\n",
    "\n",
    "<CENTER><img src=\"https://atlas.web.cern.ch/Atlas/GROUPS/PHYSICS/PAPERS/HIGG-2016-07/fig_01a.png\" style=\"width:30%\"></CENTER>\n",
    "\n",
    "<br>\n",
    "\n",
    "above its the largest background; Events coming from the SM WW-diboson background production from two quarks:\n",
    "\n",
    "<CENTER><img src=\"https://cds.cern.ch/record/1484203/files/fig1b.png\" style=\"width:30%\"></CENTER>\n",
    "\n",
    "\n",
    "<br>\n",
    "\n",
    "Unlike the previous analysis, we can't do a bump-hunt when the invariant mass of the decay products are larger than the mass of the particle that's decaying ($m_H$=125 GeV and $m_W$=80 GeV x 2). Instead, we can do a  __non-resonant search__. This is done by histogramming some variable of the decay products (in this case a variable called *transverse mass*) for both data and Monte-Carlo simulations of the background, subtracting the backgrounds from the data (scaled for the fact we have many more simulated events than real events) before looking at the events, if any, left over indicating the presence of the Higgs."
   ]
  },
  {
   "cell_type": "markdown",
   "metadata": {},
   "source": [
    "### This analysis is inspired by the prompt on the Open Data website [here](http://opendata.atlas.cern/release/2020/documentation/physics/DL2.html)."
   ]
  },
  {
   "cell_type": "markdown",
   "metadata": {},
   "source": [
    "#### Before we begin...\n",
    "\n",
    "\n",
    "Another custom function to simplify our code:"
   ]
  },
  {
   "cell_type": "code",
   "execution_count": null,
   "metadata": {},
   "outputs": [],
   "source": [
    "def printTreeBranches(tree):\n",
    "    \"\"\"\n",
    "    A function which makes it simple to peek inside a TTree and see which variables (branches) are available\n",
    "    \n",
    "    Parameters\n",
    "    ----------\n",
    "    tree : A ROOT TTree\n",
    "    \"\"\"\n",
    "    \n",
    "    branches = tree.GetListOfBranches()\n",
    "\n",
    "    print('TTree branch names:')\n",
    "    print('-------------------')\n",
    "    for branch in branches:\n",
    "        print(branch.GetName())"
   ]
  },
  {
   "cell_type": "markdown",
   "metadata": {},
   "source": [
    "<br>\n",
    "\n",
    "Now we follow our usual analysis steps..."
   ]
  },
  {
   "cell_type": "markdown",
   "metadata": {},
   "source": [
    "### 1. Reading in ROOT files"
   ]
  },
  {
   "cell_type": "code",
   "execution_count": null,
   "metadata": {},
   "outputs": [],
   "source": [
    "#Dilepton data\n",
    "\n",
    "data = ROOT.TFile.Open(\"https://atlas-opendata.web.cern.ch/atlas-opendata/samples/2020/2lep/Data/data_A.2lep.root\")\n",
    "dataTree = data.Get(\"mini\")\n",
    "print('Tree contains %d entries\\n' % dataTree.GetEntries())\n",
    "\n",
    "#Peek inside?\n",
    "view_branches = True #Set to True to look inside\n",
    "if view_branches: printTreeBranches(dataTree)"
   ]
  },
  {
   "cell_type": "code",
   "execution_count": null,
   "metadata": {},
   "outputs": [],
   "source": [
    "## qq->WW background (MC)\n",
    "\n",
    "bkg = ROOT.TFile.Open(\"https://atlas-opendata.web.cern.ch/atlas-opendata/samples/2020/2lep/MC/mc_363492.llvv.2lep.root\")\n",
    "bkgTree = bkg.Get(\"mini\")\n",
    "print('Tree contains %d entries\\n' % bkgTree.GetEntries()) #Will need to be scaled to number of data events\n",
    "\n",
    "#Peek inside?\n",
    "view_branches = False #Set to True to look inside\n",
    "if view_branches: printTreeBranches(bkgTree)"
   ]
  },
  {
   "cell_type": "markdown",
   "metadata": {},
   "source": [
    "### 2. Preparing histograms"
   ]
  },
  {
   "cell_type": "code",
   "execution_count": null,
   "metadata": {},
   "outputs": [],
   "source": [
    "c = ROOT.TCanvas(\"HWWCanvas\",\"Higgs->WW Analysis\",800,600)\n",
    "h_bgs = ROOT.TH1F(\"h_bgs\",\"Transverse mass mT; Transverse Mass m_{T} [GeV] ; events\",20,60,300)\n",
    "h_dat = ROOT.TH1F(\"h_dat\",\"Transverse mass mT; Transverse Mass m_{T} [GeV] ; events\",20,60,300)"
   ]
  },
  {
   "cell_type": "markdown",
   "metadata": {},
   "source": [
    "---"
   ]
  },
  {
   "cell_type": "markdown",
   "metadata": {},
   "source": [
    "### 3. Selecting events and filling histograms"
   ]
  },
  {
   "cell_type": "code",
   "execution_count": null,
   "metadata": {},
   "outputs": [],
   "source": [
    "def mcWeights(tree,lumi=10):\n",
    "    \"\"\"\n",
    "    When MC simulation is compared to data the contribution of each simulated event needs to be\n",
    "    scaled ('reweighted') to account for differences in how some objects behave in simulation\n",
    "    vs in data, as well as the fact that there are different numbers of events in the MC tree than \n",
    "    in the data tree.\n",
    "    \n",
    "    Parameters\n",
    "    ----------\n",
    "    tree : TTree entry for this event\n",
    "    \"\"\"\n",
    "    \n",
    "    #These values don't change from event to event\n",
    "    norm = lumi*(tree.XSection*1000)/tree.SumWeights\n",
    "    \n",
    "    #These values do change from event to event\n",
    "    scale_factors = tree.scaleFactor_ELE*tree.scaleFactor_MUON*tree.scaleFactor_LepTRIGGER*tree.scaleFactor_PILEUP*tree.mcWeight\n",
    "    \n",
    "    weight = norm*scale_factors\n",
    "    return weight"
   ]
  },
  {
   "cell_type": "code",
   "execution_count": null,
   "metadata": {},
   "outputs": [],
   "source": [
    "def goodLeptons(tree):\n",
    "    \"\"\"\n",
    "    A function to return the indices of 'good leptons' (electrons or muons) in an event. This follows \n",
    "    many of the same steps as locateGoodPhotons() and photonIsolation() above.\n",
    "    \n",
    "    Parameters\n",
    "    ----------\n",
    "    tree : TTree entry for this event\n",
    "    \"\"\"\n",
    "    \n",
    "    #Initialise (set up) the variables we want to return\n",
    "    goodlepton_index = [] #Indices (position in list of event's leptons) of our good leptons\n",
    "            \n",
    "    ##Loop through all the leptons in the event\n",
    "    for j in range(0,tree.lep_n):\n",
    "            \n",
    "        ##Check lepton ID\n",
    "        if(tree.lep_isTightID[j]):\n",
    "            \n",
    "            #Check lepton isolation\n",
    "            #Similar to photonIsolation() above, different thresholds\n",
    "            if((tree.lep_ptcone30[j]/tree.lep_pt[j] < 0.1) and \n",
    "               (tree.lep_etcone20[j]/tree.lep_pt[j] < 0.1)):\n",
    "\n",
    "                #Only central leptons \n",
    "                #Electrons and muons have slightly different eta requirements\n",
    "\n",
    "                #Electrons: 'Particle type code' = 11\n",
    "                if tree.lep_type[j] == 11:\n",
    "                    \n",
    "                    #Check lepton eta is in the 'central' region and not in \"transition region\" \n",
    "                    if (TMath.Abs(tree.lep_eta[j]) < 2.37) and\\\n",
    "                       (TMath.Abs(tree.lep_eta[j]) < 1.37 or TMath.Abs(tree.lep_eta[j]) > 1.52): \n",
    "\n",
    "                        goodlepton_index.append(j) #Store lepton's index\n",
    "\n",
    "                #Muons: 'Particle type code' = 13\n",
    "                elif (tree.lep_type[j] == 13) and (TMath.Abs(tree.lep_eta[j]) < 2.5): #Check'central' region\n",
    "\n",
    "                        goodlepton_index.append(j) #Store lepton's index\n",
    "\n",
    "\n",
    "    return goodlepton_index #return list of good lepton indices"
   ]
  },
  {
   "cell_type": "code",
   "execution_count": null,
   "metadata": {},
   "outputs": [],
   "source": [
    "def hWW(tree,hist,mode):\n",
    "    \"\"\"\n",
    "    Function which executes the analysis flow for the Higgs production cross-section measurement in the H->WW\n",
    "    decay channel.\n",
    "    \n",
    "    Fills a histogram with mT(llvv) of events which pass the full set of cuts \n",
    "    \n",
    "    Parameters\n",
    "    ----------\n",
    "    tree : A Ttree containing data / background information\n",
    "    \n",
    "    hist : The name of the histogram to be filled with mT(llvv) values\n",
    "    \n",
    "    mode : A flag to tell the function if it is looping over 'data' or 'mc'\n",
    "    \"\"\"\n",
    "    \n",
    "    n = 0\n",
    "    for event in tree:\n",
    "        \n",
    "        #############################\n",
    "        ### Event-level requirements\n",
    "        #############################\n",
    "    \n",
    "        trackProgress(n,100000)\n",
    "        n += 1\n",
    "        \n",
    "        #If event is MC: Reweight it\n",
    "        if mode.lower() == 'mc': weight = mcWeights(tree)\n",
    "        else: weight = 1\n",
    "            \n",
    "            \n",
    "        #If the event passes either the electron or muon trigger\n",
    "        if tree.trigE or tree.trigM:\n",
    "            \n",
    "            ####Lepton preselections\n",
    "            goodLeps = goodLeptons(tree) #If the datafiles were not already filtered by number of leptons\n",
    "\n",
    "            ###################################\n",
    "            ### Individual lepton requirements\n",
    "            ###################################\n",
    "\n",
    "            if len(goodLeps) == 2: #Exactly two good leptons...\n",
    "                lep1 = goodLeps[0] #INDICES of the good leptons\n",
    "                lep2 = goodLeps[1]\n",
    "\n",
    "                if tree.lep_type[lep1] != tree.lep_type[lep2]: #... with different flavour\n",
    "\n",
    "                    if tree.lep_charge[lep1] != tree.lep_charge[lep2]: #... and opposite charge...\n",
    "\n",
    "                        if (tree.lep_pt[lep1] > 22000) and (tree.lep_pt[lep2] > 15000): #pT requirements\n",
    "                            #Note: TTrees always sort objects in descending pT order\n",
    "\n",
    "                            if abs(tree.lep_phi[lep1]-tree.lep_phi[lep2]) < 1.8: #lepton separtion in phi \n",
    "\n",
    "                                #################################\n",
    "                                ### Dilepton system requirements\n",
    "                                #################################\n",
    "\n",
    "                                #Initialse (set up) an empty 4 vector for dilepton system\n",
    "                                dilep_four_mmtm = ROOT.TLorentzVector()\n",
    "\n",
    "                                #Loop through our list of lepton indices\n",
    "                                for i in goodLeps:\n",
    "\n",
    "                                    #Initialse (set up) an empty 4 vector for each lepton\n",
    "                                    lep_i = ROOT.TLorentzVector()\n",
    "\n",
    "                                    #Retrieve the lepton's 4 momentum components from the tree\n",
    "                                    lep_i.SetPtEtaPhiE(tree.lep_pt[i], tree.lep_eta[i],tree.lep_phi[i],tree.lep_E[i])\n",
    "\n",
    "                                    #Store lepton's 4 momentum\n",
    "                                    dilep_four_mmtm += lep_i\n",
    "                                  \n",
    "                                # Dilepton system pT > 30 GeV\n",
    "                                if dilep_four_mmtm.Pt() > 30000:\n",
    "\n",
    "                                    if (dilep_four_mmtm.M() > 10000) and (dilep_four_mmtm.M() < 55000):\n",
    "\n",
    "                                        #####################\n",
    "                                        ### MET requirements\n",
    "                                        #####################\n",
    "\n",
    "                                        #Initialse (set up) an empty 4 vector for the event's MET and fill from tree\n",
    "                                        met_four_mom = ROOT.TLorentzVector()\n",
    "                                        met_four_mom.SetPtEtaPhiE(tree.met_et,0,tree.met_phi,tree.met_et)\n",
    "\n",
    "                                        #MET > 30 GeV\n",
    "                                        if met_four_mom.Pt() > 30000:\n",
    "\n",
    "                                            #Diffence in phi between the dilepton system and the MET < pi/2\n",
    "                                            if abs(dilep_four_mmtm.Phi()-met_four_mom.Phi()) < 1.571:\n",
    "\n",
    "                                                #####################\n",
    "                                                ### Full llvv system\n",
    "                                                #####################\n",
    "\n",
    "                                                system_four_mom = dilep_four_mmtm + met_four_mom\n",
    "                                                \n",
    "                                                #If Fill() is passed a second argument, the event is weighted by that amount\n",
    "                                                hist.Fill(system_four_mom.Mt()/1000,weight)\n",
    "                                        "
   ]
  },
  {
   "cell_type": "code",
   "execution_count": null,
   "metadata": {},
   "outputs": [],
   "source": [
    "#Data\n",
    "hWW(dataTree,h_dat,'data')"
   ]
  },
  {
   "cell_type": "code",
   "execution_count": null,
   "metadata": {},
   "outputs": [],
   "source": [
    "#Look at data histogram\n",
    "\n",
    "h_dat.SetFillStyle(3003)\n",
    "h_dat.SetFillColor(2)\n",
    "h_dat.SetLineColor(2)\n",
    "\n",
    "h_dat.Draw(\"hist\")\n",
    "c.Draw()"
   ]
  },
  {
   "cell_type": "code",
   "execution_count": null,
   "metadata": {},
   "outputs": [],
   "source": [
    "#MC \n",
    "hWW(bkgTree,h_bgs,'mc')"
   ]
  },
  {
   "cell_type": "code",
   "execution_count": null,
   "metadata": {},
   "outputs": [],
   "source": [
    "#Look at MC histogram\n",
    "\n",
    "h_bgs.SetFillStyle(3001)\n",
    "h_bgs.SetFillColor(4)\n",
    "h_bgs.SetLineColor(4)\n",
    "\n",
    "h_bgs.Draw(\"hist\")\n",
    "c.Draw()"
   ]
  },
  {
   "cell_type": "markdown",
   "metadata": {},
   "source": [
    "---"
   ]
  },
  {
   "cell_type": "markdown",
   "metadata": {},
   "source": [
    "### 4. Draw (final) plots"
   ]
  },
  {
   "cell_type": "code",
   "execution_count": null,
   "metadata": {},
   "outputs": [],
   "source": [
    "#Draw histograms on same canvas\n",
    "\n",
    "h_dat.Draw(\"hist\")\n",
    "h_bgs.Draw(\"histsame\")\n",
    "\n",
    "h_dat.SetStats(0)\n",
    "h_bgs.SetStats(0)\n",
    "\n",
    "legend=ROOT.TLegend(0.5,0.7,0.9,0.9)\n",
    "legend.AddEntry(h_bgs,\"Background (qq->WW) \",\"l\")\n",
    "legend.AddEntry(h_dat,\"Data\",\"l\")\n",
    "legend.Draw()\n",
    "\n",
    "c.Draw()"
   ]
  },
  {
   "cell_type": "code",
   "execution_count": null,
   "metadata": {},
   "outputs": [],
   "source": [
    "#Subtract the two histograms\n",
    "\n",
    "h_diff = h_dat.Clone(\"diff\")\n",
    "h_diff.Add(h_bgs,-1)"
   ]
  },
  {
   "cell_type": "code",
   "execution_count": null,
   "metadata": {},
   "outputs": [],
   "source": [
    "#Plot the subtracted histogram\n",
    "\n",
    "h_diff.SetFillStyle(3001)\n",
    "h_diff.SetFillColor(8)\n",
    "h_diff.SetLineColor(8)\n",
    "h_diff.SetStats(0)\n",
    "\n",
    "h_diff.Draw(\"hist\")\n",
    "c.Draw()"
   ]
  },
  {
   "cell_type": "markdown",
   "metadata": {},
   "source": [
    "## Extension exercises\n",
    "\n",
    "a) This estimation of the strength of our Higgs signal is actually rather overoptimistic! This is because we are only accounting for one background (albeit the strongest one). Another large background to the $H\\rightarrow WW$ process comes from top quarks.\n",
    "- Seach in the [Open Data repository](https://atlas-opendata.web.cern.ch/atlas-opendata/samples/2020) for some simiulated top quark production data.\n",
    "- Initialise a histogram for your top data, apply your analysis cuts and fill the histogram\n",
    "- Think of the best way to display your results on a histogram"
   ]
  },
  {
   "cell_type": "markdown",
   "metadata": {},
   "source": [
    "<details>\n",
    "    <summary>Click here for plotting hint 1: </summary>\n",
    "    Sum your background histograms togther (similar to the subtraction) and adjust your plot legend, or..\n",
    "</details>"
   ]
  },
  {
   "cell_type": "markdown",
   "metadata": {},
   "source": [
    "<details>\n",
    "    <summary>Click here for plotting hint 2: </summary>\n",
    "    Recall hist's stacking ability...\n",
    "</details>"
   ]
  },
  {
   "cell_type": "markdown",
   "metadata": {},
   "source": [
    "b) The reason for imposing **cuts** in any analysis is to reduce backgrounds while keeping as many of our signal events as possible. We are now considering a new background, the production of top quarks.\n",
    "\n",
    "Fortunately, processes involving top quarks are easy to spot, because the decay almost exclusively to **bjets** - showers of strongly interacting particles originating from a bottom quark.\n",
    "\n",
    "- Take a look at the [prompt](http://opendata.atlas.cern/release/2020/documentation/physics/DL2.html) for this analysis on the Open Data website. You'll notice that there's one about jets that we've skipped.\n",
    "\n",
    "    - Return to our $H\\rightarrow WW$ analysis, and implement this cut to reduced the contribution from our newly-added top background."
   ]
  },
  {
   "cell_type": "markdown",
   "metadata": {},
   "source": [
    "<details>\n",
    "    <summary>Click here for hint 1: </summary>\n",
    "    Write a function similar to goodLeptons() that returns the indices of good jets in the event. For each jet in an event only keep it if:\n",
    "        \n",
    "    jet_pt > 30 GeV\n",
    "</details>"
   ]
  },
  {
   "cell_type": "markdown",
   "metadata": {},
   "source": [
    "<details>\n",
    "    <summary>Click here for hint 2: </summary>\n",
    "    Write a function similar to goodLeptons() that returns the indices of good bjets in the event. For each bjet in an event only keep it if:\n",
    "    jet_MV2c10 branch > 0.18    \n",
    "    jet_pt > 20 GeV\n",
    "    \n",
    "- MV2c10 is the ATLAS algorithm that tell's us how likely it is that a jet is a bjet. These kinds of algorithms are called __btaggers__.\n",
    "</details>"
   ]
  },
  {
   "cell_type": "markdown",
   "metadata": {},
   "source": [
    "<details>\n",
    "    <summary>Click here for hint 3: </summary>\n",
    "    Our btagger is another thing that performs differently on real data vs simulated MC data. This means it needs to be added to the multiplication in our mcWeights() function. \n",
    "    \n",
    "The btagging scale factor changes from event-to-event, and is stored in a branch called `scaleFactor_BTAG`\n",
    "</details>"
   ]
  },
  {
   "cell_type": "markdown",
   "metadata": {},
   "source": [
    "<details>\n",
    "    <summary>Click here for hint 4: </summary>\n",
    "    \n",
    "In our main event loop, only keep an event if it has:\n",
    "    - Less than 2 good-jets\n",
    "    - 0 good-bjets \n",
    "        \n",
    "</details>"
   ]
  },
  {
   "cell_type": "markdown",
   "metadata": {},
   "source": [
    "---"
   ]
  },
  {
   "cell_type": "markdown",
   "metadata": {},
   "source": [
    "### The two analyses presented in this notebooks are inspired by the [prompts](http://opendata.atlas.cern/release/2020/documentation/physics/intro.html) on the ATLAS Open Data website. \n",
    "- This is a great place to start for ideas for your own research!\n",
    "\n",
    "- For another example of building your own analysis from one of these prompts, check out the notebook and accompanying instructions in the `workedExample` folder.\n",
    "\n",
    "__Good luck!!__"
   ]
  },
  {
   "cell_type": "markdown",
   "metadata": {},
   "source": [
    "---"
   ]
  }
 ],
 "metadata": {
  "kernelspec": {
   "display_name": "Python 3 (ipykernel)",
   "language": "python",
   "name": "python3"
  },
  "language_info": {
   "codemirror_mode": {
    "name": "ipython",
    "version": 3
   },
   "file_extension": ".py",
   "mimetype": "text/x-python",
   "name": "python",
   "nbconvert_exporter": "python",
   "pygments_lexer": "ipython3",
   "version": "3.7.6"
  }
 },
 "nbformat": 4,
 "nbformat_minor": 4
}
